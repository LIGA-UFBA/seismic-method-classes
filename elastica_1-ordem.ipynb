{
 "cells": [
  {
   "cell_type": "markdown",
   "metadata": {},
   "source": [
    "# Equação da onda elástica de 1ª ordem - 2 Camadas Líquido-sólido"
   ]
  },
  {
   "cell_type": "code",
   "execution_count": null,
   "metadata": {},
   "outputs": [],
   "source": [
    "import numpy as np\n",
    "import matplotlib.pyplot as plt\n",
    "from matplotlib import animation\n",
    "from mpl_toolkits.axes_grid1 import make_axes_locatable\n",
    "try:\n",
    "    from examples.seismic.stiffness.model import ElasticModel\n",
    "except:\n",
    "    from examples.seismic.stiffness.model import ISOSeismicModel as ElasticModel\n",
    "\n",
    "from examples.seismic import plot_velocity, TimeAxis, setup_geometry\n",
    "from examples.seismic.stiffness.utils import C_Matrix, D, S, vec\n",
    "from examples.seismic import RickerSource, AcquisitionGeometry, Receiver\n",
    "from devito import *\n",
    "from plot_functions import plot_animated_wavefield, plot_shotrecord, plot_wavefield_snaps\n",
    "\n",
    "%matplotlib inline"
   ]
  },
  {
   "cell_type": "markdown",
   "metadata": {},
   "source": [
    "## Parâmetros dos operadores de diferenças finitas"
   ]
  },
  {
   "cell_type": "code",
   "execution_count": null,
   "metadata": {},
   "outputs": [],
   "source": [
    "space_order=16\n",
    "time_order=1"
   ]
  },
  {
   "cell_type": "markdown",
   "metadata": {},
   "source": [
    "## Dimensões do modelo\n",
    "\n",
    "O modelo possui dimensões $w \\times h = 2000\\ \\mathrm{m} \\times 2000\\ \\mathrm{m}$, e um espaçamento de $\\Delta x = \\Delta z = 10\\ \\mathrm{m}$. Logo, a malha deverá ter \n",
    "$$\n",
    "n_x = \\frac{w}{\\Delta x} + 1 = \\frac{2000\\ \\mathrm{m}}{10\\ \\mathrm{m}} + 1 = 201\n",
    "$$\n",
    "pontos ao longo do eixo x, e\n",
    "$$\n",
    "n_z = \\frac{h}{\\Delta z} + 1 = \\frac{2000\\ \\mathrm{m}}{10\\ \\mathrm{m}} + 1 = 201\n",
    "$$\n",
    "pontos ao longo do eixo z."
   ]
  },
  {
   "cell_type": "code",
   "execution_count": null,
   "metadata": {},
   "outputs": [],
   "source": [
    "shape = (201, 201)\n",
    "spacing = (10., 10.)\n",
    "origin = (0., 0.)\n",
    "nbl=201"
   ]
  },
  {
   "cell_type": "markdown",
   "metadata": {},
   "source": [
    "## Parâmetros físicos\n",
    "\n",
    "<!-- O modelo possui 2 camadas cujas velocidades de propagação são\n",
    "\n",
    "Camada | $v_P$ ($\\mathrm{km/s}$) | $v_S$ ($\\mathrm{km/s}$)\n",
    "-|-|-\n",
    "1|1.5|0.75\n",
    "2|3.5|1.75 -->"
   ]
  },
  {
   "cell_type": "code",
   "execution_count": null,
   "metadata": {},
   "outputs": [],
   "source": [
    "vp1 = 1.5\n",
    "\n",
    "vp = vp1 * np.ones(shape, dtype=np.float32)\n",
    "\n",
    "CASO_HOMOGENEO = True\n",
    "\n",
    "# Remova o comentário das linhas abaixo para gerar um modelo de duas camadas\n",
    "# vp2 = 3.5\n",
    "# vp[:, shape[1]//2:] = vp2\n",
    "# CASO_HOMOGENEO = False\n",
    "\n",
    "\n",
    "vs = vp/2\n",
    "rho = 1"
   ]
  },
  {
   "cell_type": "code",
   "execution_count": null,
   "metadata": {},
   "outputs": [],
   "source": [
    "model = ElasticModel(vp=vp, vs=vs, rho=rho, origin=origin, shape=shape, spacing=spacing,\n",
    "              space_order=space_order, nbl=nbl, bcs=\"damp\")"
   ]
  },
  {
   "cell_type": "code",
   "execution_count": null,
   "metadata": {},
   "outputs": [],
   "source": [
    "plot_velocity(model)"
   ]
  },
  {
   "cell_type": "markdown",
   "metadata": {},
   "source": [
    "## Tempo de aquisição\n",
    "\n",
    "O período de aquisição inicia em $t_0 = 0$ $\\mathrm{ms}$ e termina em $t_n = 2500$ $\\mathrm{ms}$. O comprimento do passo temporal, $\\Delta t$, foi escolhido como o $\\Delta t_{\\text{crítico}}$ que, embora tenha sido calculado por outro método, satisfaz a condição de estabilidade:\n",
    "$$\n",
    "\\Delta t \\le \\frac{1}{\\max(v_P)\\sqrt{\\dfrac{1}{\\Delta x^2} + \\dfrac{1}{\\Delta z^2}}}\n",
    "$$"
   ]
  },
  {
   "cell_type": "code",
   "execution_count": null,
   "metadata": {},
   "outputs": [],
   "source": [
    "t0 = 0.\n",
    "tn = 1500.\n",
    "dt = model.critical_dt"
   ]
  },
  {
   "cell_type": "markdown",
   "metadata": {},
   "source": [
    "## Geometria\n",
    "\n",
    "Como o valor mínimo do campo de velocidade é $1.5\\ \\mathrm{km/s}$, o espaçamento do modelo é $\\Delta x = \\Delta z = 10 \\mathrm{m}$ e a ordem do operador de diferenças finitas para as derivadas espaciais é igual a $16$ ($F = 2$), a frequência máxima $f_{\\mathrm{max}}$ da onda propagada deve satisfazer\n",
    "$$\n",
    "\\begin{aligned}\n",
    "f_{\\mathrm{max}} &\\le \\frac{\\min{(v_P, v_S)}}{F\\max{\\Delta x, \\Delta z}}\\\\\n",
    "    &= \\frac{1.5\\ \\mathrm{km/s}}{2 \\times 10\\ \\mathrm{m}}\\\\\n",
    "    &= 0.075\\ \\mathrm{kHz}\n",
    "\\end{aligned}\n",
    "$$\n",
    "A assinatura da fonte será a fonte de Ricker, que possui uma frequência de pico $f_{\\mathrm{peak}} \\approx \\dfrac{1}{3} f_{\\mathrm{max}}$. Com base nisto, foi escolhida uma frequência máxima de $0.03\\ \\mathrm{kHz}$, resultando numa frequência de pico igual a $0.01\\ \\mathrm{kHz}$."
   ]
  },
  {
   "cell_type": "code",
   "execution_count": null,
   "metadata": {},
   "outputs": [],
   "source": [
    "f0 = 0.01"
   ]
  },
  {
   "cell_type": "code",
   "execution_count": null,
   "metadata": {},
   "outputs": [],
   "source": [
    "geometry = setup_geometry(model, tn, f0=f0)\n",
    "time_range = geometry.time_axis"
   ]
  },
  {
   "cell_type": "markdown",
   "metadata": {},
   "source": [
    "Será utilizada uma fonte de Ricker posicionada no canto superior esquerdo do modelo"
   ]
  },
  {
   "cell_type": "code",
   "execution_count": null,
   "metadata": {},
   "outputs": [],
   "source": [
    "src = RickerSource(name='src', grid=model.grid, f0=f0,\n",
    "                   npoint=1, time_range=time_range)"
   ]
  },
  {
   "cell_type": "code",
   "execution_count": null,
   "metadata": {},
   "outputs": [],
   "source": [
    "src.coordinates.data[0, 0] = model.domain_size[0]/2\n",
    "src.coordinates.data[0, 1] = model.domain_size[1]/2"
   ]
  },
  {
   "cell_type": "code",
   "execution_count": null,
   "metadata": {},
   "outputs": [],
   "source": [
    "src.show()"
   ]
  },
  {
   "cell_type": "markdown",
   "metadata": {},
   "source": [
    "Há um receptor para cada ponto da malha na superfície ($z = 0\\ \\mathrm{km}$). Logo, existem $n_{\\mathrm{rec}} = 501$ receptores espaçados por $10$ $\\mathrm{m}$. Os receptores leem os campos $\\tau$ e $\\mathbf{v}$."
   ]
  },
  {
   "cell_type": "code",
   "execution_count": null,
   "metadata": {},
   "outputs": [],
   "source": [
    "def create_receivers(name, model, geometry):\n",
    "    time_range = geometry.time_axis\n",
    "    shape = model.shape\n",
    "    rec = Receiver(name=name, grid=model.grid, npoint=shape[0], time_range=time_range)\n",
    "    rec.coordinates.data[:, 0] = np.linspace(0, model.domain_size[0], num=shape[0])\n",
    "    rec.coordinates.data[:, 1] = 0  # Depth is 0m\n",
    "    return rec"
   ]
  },
  {
   "cell_type": "code",
   "execution_count": null,
   "metadata": {},
   "outputs": [],
   "source": [
    "rec_tauxx = create_receivers('recTauxx', model, geometry)\n",
    "rec_tauzz = create_receivers('recTauzz', model, geometry)\n",
    "rec_tauxz = create_receivers('recTauxz', model, geometry)\n",
    "\n",
    "rec_vx = create_receivers('recVx', model, geometry)\n",
    "rec_vz = create_receivers('recVz', model, geometry)"
   ]
  },
  {
   "cell_type": "markdown",
   "metadata": {},
   "source": [
    "#### Posição da fonte"
   ]
  },
  {
   "cell_type": "code",
   "execution_count": null,
   "metadata": {},
   "outputs": [],
   "source": [
    "plot_velocity(model, source=src.coordinates.data,\n",
    "              receiver=rec_tauxx.coordinates.data[::4, :])"
   ]
  },
  {
   "cell_type": "markdown",
   "metadata": {},
   "source": [
    "## Definição da equação da onda elástica de 1ª ordem"
   ]
  },
  {
   "cell_type": "markdown",
   "metadata": {},
   "source": [
    "Aqui é definida no *Devito* o sistema de equações\n",
    "\n",
    "$$\n",
    "\\begin{cases}\n",
    "    \\dfrac{\\partial \\mathbf{\\tau}}{\\partial t} - CD^T\\mathbf{v} = \\mathbf{S}\\\\\n",
    "    \\dfrac{\\partial \\mathbf{v}}{\\partial t} - D\\mathbf{\\tau} = 0\n",
    "\\end{cases}\n",
    "$$\n",
    "\n",
    "que é a formulação de propagação da onda elástica de 1ª ordem com densidade constante, em que:\n",
    "\n",
    "- $\\mathbf{\\tau}$ é o tensor de estresses;\n",
    "- $\\mathbf{v}$ é o campo de velocidade de partícula;\n",
    "- $C$ é a matriz de rigidez:\n",
    "\n",
    "    $$\n",
    "    C = \\begin{bmatrix}\n",
    "        \\rho v_P^2 & \\rho (v_P^2 - 2v_S^2) & 0\\\\\n",
    "        \\rho (v_P^2 - 2v_S^2) & \\rho v_P^2 & 0\\\\\n",
    "        0 & 0 & \\rho v_S^2\\\\\n",
    "    \\end{bmatrix}\n",
    "    $$\n",
    "\n",
    "- $D$ é a matriz de derivadas espaciais:\n",
    "\n",
    "    $$\n",
    "    D = \\begin{bmatrix}\n",
    "        \\partial_x & 0 & \\partial_z\\\\\n",
    "        0 & \\partial_z & \\partial_x\\\\\n",
    "    \\end{bmatrix}\n",
    "    $$\n",
    "    \n",
    "- $\\mathbf{S}$ é o termo fonte;"
   ]
  },
  {
   "cell_type": "code",
   "execution_count": null,
   "metadata": {},
   "outputs": [],
   "source": [
    "tau = vec(TensorTimeFunction(name='tau', grid=model.grid, time_order=time_order, space_order=space_order))\n",
    "v = VectorTimeFunction(name='v', grid=model.grid, time_order=time_order, space_order=space_order)"
   ]
  },
  {
   "cell_type": "markdown",
   "metadata": {},
   "source": [
    "Cria-se funções auxiliares para armazenar os campos de tensão e velocidade de partícula. São salvos 60 campos distribuidos ao longo do período de aquisição."
   ]
  },
  {
   "cell_type": "code",
   "execution_count": null,
   "metadata": {},
   "outputs": [],
   "source": [
    "nsnaps = 60\n",
    "factor = round(geometry.nt/nsnaps)\n",
    "time_subsampled = ConditionalDimension(name='tsub', parent=model.grid.time_dim,factor=factor)\n",
    "\n",
    "tausave = vec(TensorTimeFunction(name='tausave', grid=model.grid, time_order=time_order, space_order=space_order, \n",
    "                                 save=nsnaps, time_dim=time_subsampled))\n",
    "vsave = VectorTimeFunction(name='vsave', grid=model.grid, time_order=time_order, space_order=space_order, \n",
    "                                 save=nsnaps, time_dim=time_subsampled)\n"
   ]
  },
  {
   "cell_type": "markdown",
   "metadata": {},
   "source": [
    "Definição das EDPs"
   ]
  },
  {
   "cell_type": "code",
   "execution_count": null,
   "metadata": {},
   "outputs": [],
   "source": [
    "C = C_Matrix(model,'vp-vs-rho')\n",
    "vp = model.vp\n",
    "rho = model.rho"
   ]
  },
  {
   "cell_type": "code",
   "execution_count": null,
   "metadata": {},
   "outputs": [],
   "source": [
    "EDP_tau = tau.dt - C* S(v.forward)\n",
    "EDP_v = 1/rho * v.dt - D(tau)"
   ]
  },
  {
   "cell_type": "markdown",
   "metadata": {},
   "source": [
    "Geração *stencils* para a expressão dos campos de ondas futuros com base nestas EDPs."
   ]
  },
  {
   "cell_type": "code",
   "execution_count": null,
   "metadata": {},
   "outputs": [],
   "source": [
    "# Expressão para o campo de ondas futuro, P(r, t + dt)\n",
    "stencil_tau = Eq(tau.forward, solve(EDP_tau, tau.forward))\n",
    "stencil_v = Eq(v.forward, solve(EDP_v, v.forward))"
   ]
  },
  {
   "cell_type": "markdown",
   "metadata": {},
   "source": [
    "Com base na expressão acima para o campo $P(\\mathbf{x}, t + \\Delta t)$, observa-se que o termo fonte deverá ter um coeficiente igual a $\\Delta t$. Logo, a fonte $S$ deve ser injetada no campo de ondas futuro como $\\Delta t S(\\mathbf{x}, t)$"
   ]
  },
  {
   "cell_type": "code",
   "execution_count": null,
   "metadata": {},
   "outputs": [],
   "source": [
    "# Símbolo do espaçamento temporal\n",
    "s = model.grid.stepping_dim.spacing\n",
    "\n",
    "# Expressão do termo fonte a ser injetada no stencil criado acima\n",
    "src_term_xx = src.inject(tau[0].forward, expr = s * src)\n",
    "src_term_zz = src.inject(tau[1].forward, expr = s * src)\n",
    "src_term = src_term_xx + src_term_zz\n",
    "\n",
    "rec_term = rec_tauxx.interpolate(tau[0].forward)\\\n",
    "        + rec_tauzz.interpolate(tau[1].forward)\\\n",
    "        + rec_tauxz.interpolate(tau[2].forward)\\\n",
    "        + rec_vx.interpolate(v[0].forward)\\\n",
    "        + rec_vz.interpolate(v[1].forward)"
   ]
  },
  {
   "cell_type": "markdown",
   "metadata": {},
   "source": [
    "### Criação do operador de diferenças finitas"
   ]
  },
  {
   "cell_type": "code",
   "execution_count": null,
   "metadata": {},
   "outputs": [],
   "source": [
    "op = Operator([stencil_v, stencil_tau] + src_term + [Eq(tausave, tau), Eq(vsave, v)] + rec_term, subs=model.spacing_map)"
   ]
  },
  {
   "cell_type": "code",
   "execution_count": null,
   "metadata": {},
   "outputs": [],
   "source": [
    "op(dt=model.critical_dt)"
   ]
  },
  {
   "cell_type": "markdown",
   "metadata": {},
   "source": [
    "### Registro sísmico e propagação dos campos"
   ]
  },
  {
   "cell_type": "code",
   "execution_count": null,
   "metadata": {},
   "outputs": [],
   "source": [
    "if CASO_HOMOGENEO:\n",
    "    plot_animated_wavefield(vsave[0].data, rec_vx.data, geometry, src.coordinates.data[0], \n",
    "                            model, 'Propagação do campo $V_x$', scale_factor=1/500,\n",
    "                            wave_scale_factor=1/5\n",
    "                        )\n",
    "else:\n",
    "    intf_positions = [\n",
    "        (\n",
    "            [model.origin[0], model.domain_size[0]],\n",
    "            [model.domain_size[1]/2, model.domain_size[1]/2]\n",
    "        ),\n",
    "    ]\n",
    "\n",
    "    plot_animated_wavefield(vsave[0].data, rec_vx.data, geometry, src.coordinates.data[0], \n",
    "                            model, 'Propagação do campo $V_x$', scale_factor=1/500, intf_positions=intf_positions,\n",
    "                            wave_scale_factor=1/5\n",
    "                        )"
   ]
  }
 ],
 "metadata": {
  "hide_input": false,
  "kernelspec": {
   "display_name": "devito-filipe",
   "language": "python",
   "name": "python3"
  },
  "language_info": {
   "codemirror_mode": {
    "name": "ipython",
    "version": 3
   },
   "file_extension": ".py",
   "mimetype": "text/x-python",
   "name": "python",
   "nbconvert_exporter": "python",
   "pygments_lexer": "ipython3",
   "version": "3.10.13"
  },
  "latex_envs": {
   "LaTeX_envs_menu_present": true,
   "autoclose": false,
   "autocomplete": true,
   "bibliofile": "biblio.bib",
   "cite_by": "apalike",
   "current_citInitial": 1,
   "eqLabelWithNumbers": true,
   "eqNumInitial": 1,
   "hotkeys": {
    "equation": "Ctrl-E",
    "itemize": "Ctrl-I"
   },
   "labels_anchors": false,
   "latex_user_defs": false,
   "report_style_numbering": false,
   "user_envs_cfg": false
  },
  "widgets": {
   "state": {},
   "version": "1.1.2"
  }
 },
 "nbformat": 4,
 "nbformat_minor": 4
}
